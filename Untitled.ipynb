{
 "cells": [
  {
   "cell_type": "code",
   "execution_count": 1,
   "metadata": {},
   "outputs": [],
   "source": [
    "# !pip ins|tall xgboost"
   ]
  },
  {
   "cell_type": "code",
   "execution_count": 2,
   "metadata": {},
   "outputs": [],
   "source": [
    "import argparse\n",
    "\n",
    "from sklearn import datasets\n",
    "from sklearn.model_selection import train_test_split\n",
    "from sklearn.metrics import accuracy_score, log_loss\n",
    "import xgboost as xgb\n",
    "import matplotlib as mpl\n",
    "\n",
    "\n",
    "import mlflow\n",
    "import mlflow.xgboost\n",
    "\n",
    "mpl.use(\"Agg\")"
   ]
  },
  {
   "cell_type": "code",
   "execution_count": 3,
   "metadata": {},
   "outputs": [],
   "source": [
    "# # prepare train and test data\n",
    "# iris = datasets.load_iris()\n",
    "# X = iris.data\n",
    "# y = iris.target\n",
    "# print(X)\n",
    "# print(y)\n",
    "# X_train, X_test, y_train, y_test = train_test_split(X, y, test_size=0.2, random_state=42)"
   ]
  },
  {
   "cell_type": "code",
   "execution_count": 4,
   "metadata": {},
   "outputs": [],
   "source": [
    "def parse_args():\n",
    "    #max_depth=3, learning_rate=0.1, n_estimators=500\n",
    "    parser = argparse.ArgumentParser(description=\"XGBoostClassifier example\")\n",
    "    parser.add_argument(\n",
    "        \"--learning-rate\",\n",
    "        type=float,\n",
    "        default=0.3,\n",
    "        help=\"learning rate to update step size at each boosting step (default: 0.3)\",\n",
    "    )\n",
    "    parser.add_argument(\n",
    "        \"--max_depth\",\n",
    "        type=int,\n",
    "        default=3.0,\n",
    "        help=\"subsample ratio of columns when constructing each tree (default: 3.0)\",\n",
    "    )\n",
    "    parser.add_argument(\n",
    "        \"--n_estimators\",\n",
    "        type=int,\n",
    "        default=500,\n",
    "        help=\"subsample ratio of the training instances (default: 500)\",\n",
    "    )\n",
    "    return parser.parse_args()"
   ]
  },
  {
   "cell_type": "code",
   "execution_count": 14,
   "metadata": {},
   "outputs": [
    {
     "ename": "TypeError",
     "evalue": "('invalid cache item: ndarray', [array([[4.6, 3.6, 1. , 0.2],\n       [5.7, 4.4, 1.5, 0.4],\n       [6.7, 3.1, 4.4, 1.4],\n       [4.8, 3.4, 1.6, 0.2],\n       [4.4, 3.2, 1.3, 0.2],\n       [6.3, 2.5, 5. , 1.9],\n       [6.4, 3.2, 4.5, 1.5],\n       [5.2, 3.5, 1.5, 0.2],\n       [5. , 3.6, 1.4, 0.2],\n       [5.2, 4.1, 1.5, 0.1],\n       [5.8, 2.7, 5.1, 1.9],\n       [6. , 3.4, 4.5, 1.6],\n       [6.7, 3.1, 4.7, 1.5],\n       [5.4, 3.9, 1.3, 0.4],\n       [5.4, 3.7, 1.5, 0.2],\n       [5.5, 2.4, 3.7, 1. ],\n       [6.3, 2.8, 5.1, 1.5],\n       [6.4, 3.1, 5.5, 1.8],\n       [6.6, 3. , 4.4, 1.4],\n       [7.2, 3.6, 6.1, 2.5],\n       [5.7, 2.9, 4.2, 1.3],\n       [7.6, 3. , 6.6, 2.1],\n       [5.6, 3. , 4.5, 1.5],\n       [5.1, 3.5, 1.4, 0.2],\n       [7.7, 2.8, 6.7, 2. ],\n       [5.8, 2.7, 4.1, 1. ],\n       [5.2, 3.4, 1.4, 0.2],\n       [5. , 3.5, 1.3, 0.3],\n       [5.1, 3.8, 1.9, 0.4],\n       [5. , 2. , 3.5, 1. ],\n       [6.3, 2.7, 4.9, 1.8],\n       [4.8, 3.4, 1.9, 0.2],\n       [5. , 3. , 1.6, 0.2],\n       [5.1, 3.3, 1.7, 0.5],\n       [5.6, 2.7, 4.2, 1.3],\n       [5.1, 3.4, 1.5, 0.2],\n       [5.7, 3. , 4.2, 1.2],\n       [7.7, 3.8, 6.7, 2.2],\n       [4.6, 3.2, 1.4, 0.2],\n       [6.2, 2.9, 4.3, 1.3],\n       [5.7, 2.5, 5. , 2. ],\n       [5.5, 4.2, 1.4, 0.2],\n       [6. , 3. , 4.8, 1.8],\n       [5.8, 2.7, 5.1, 1.9],\n       [6. , 2.2, 4. , 1. ],\n       [5.4, 3. , 4.5, 1.5],\n       [6.2, 3.4, 5.4, 2.3],\n       [5.5, 2.3, 4. , 1.3],\n       [5.4, 3.9, 1.7, 0.4],\n       [5. , 2.3, 3.3, 1. ],\n       [6.4, 2.7, 5.3, 1.9],\n       [5. , 3.3, 1.4, 0.2],\n       [5. , 3.2, 1.2, 0.2],\n       [5.5, 2.4, 3.8, 1.1],\n       [6.7, 3. , 5. , 1.7],\n       [4.9, 3.1, 1.5, 0.2],\n       [5.8, 2.8, 5.1, 2.4],\n       [5. , 3.4, 1.5, 0.2],\n       [5. , 3.5, 1.6, 0.6],\n       [5.9, 3.2, 4.8, 1.8],\n       [5.1, 2.5, 3. , 1.1],\n       [6.9, 3.2, 5.7, 2.3],\n       [6. , 2.7, 5.1, 1.6],\n       [6.1, 2.6, 5.6, 1.4],\n       [7.7, 3. , 6.1, 2.3],\n       [5.5, 2.5, 4. , 1.3],\n       [4.4, 2.9, 1.4, 0.2],\n       [4.3, 3. , 1.1, 0.1],\n       [6. , 2.2, 5. , 1.5],\n       [7.2, 3.2, 6. , 1.8],\n       [4.6, 3.1, 1.5, 0.2],\n       [5.1, 3.5, 1.4, 0.3],\n       [4.4, 3. , 1.3, 0.2],\n       [6.3, 2.5, 4.9, 1.5],\n       [6.3, 3.4, 5.6, 2.4],\n       [4.6, 3.4, 1.4, 0.3],\n       [6.8, 3. , 5.5, 2.1],\n       [6.3, 3.3, 6. , 2.5],\n       [4.7, 3.2, 1.3, 0.2],\n       [6.1, 2.9, 4.7, 1.4],\n       [6.5, 2.8, 4.6, 1.5],\n       [6.2, 2.8, 4.8, 1.8],\n       [7. , 3.2, 4.7, 1.4],\n       [6.4, 3.2, 5.3, 2.3],\n       [5.1, 3.8, 1.6, 0.2],\n       [6.9, 3.1, 5.4, 2.1],\n       [5.9, 3. , 4.2, 1.5],\n       [6.5, 3. , 5.2, 2. ],\n       [5.7, 2.6, 3.5, 1. ],\n       [5.2, 2.7, 3.9, 1.4],\n       [6.1, 3. , 4.6, 1.4],\n       [4.5, 2.3, 1.3, 0.3],\n       [6.6, 2.9, 4.6, 1.3],\n       [5.5, 2.6, 4.4, 1.2],\n       [5.3, 3.7, 1.5, 0.2],\n       [5.6, 3. , 4.1, 1.3],\n       [7.3, 2.9, 6.3, 1.8],\n       [6.7, 3.3, 5.7, 2.1],\n       [5.1, 3.7, 1.5, 0.4],\n       [4.9, 2.4, 3.3, 1. ],\n       [6.7, 3.3, 5.7, 2.5],\n       [7.2, 3. , 5.8, 1.6],\n       [4.9, 3.6, 1.4, 0.1],\n       [6.7, 3.1, 5.6, 2.4],\n       [4.9, 3. , 1.4, 0.2],\n       [6.9, 3.1, 4.9, 1.5],\n       [7.4, 2.8, 6.1, 1.9],\n       [6.3, 2.9, 5.6, 1.8],\n       [5.7, 2.8, 4.1, 1.3],\n       [6.5, 3. , 5.5, 1.8],\n       [6.3, 2.3, 4.4, 1.3],\n       [6.4, 2.9, 4.3, 1.3],\n       [5.6, 2.8, 4.9, 2. ],\n       [5.9, 3. , 5.1, 1.8],\n       [5.4, 3.4, 1.7, 0.2],\n       [6.1, 2.8, 4. , 1.3],\n       [4.9, 2.5, 4.5, 1.7],\n       [5.8, 4. , 1.2, 0.2],\n       [5.8, 2.6, 4. , 1.2],\n       [7.1, 3. , 5.9, 2.1]]), array([[4.6, 3.6, 1. , 0.2],\n       [5.7, 4.4, 1.5, 0.4],\n       [6.7, 3.1, 4.4, 1.4],\n       [4.8, 3.4, 1.6, 0.2],\n       [4.4, 3.2, 1.3, 0.2],\n       [6.3, 2.5, 5. , 1.9],\n       [6.4, 3.2, 4.5, 1.5],\n       [5.2, 3.5, 1.5, 0.2],\n       [5. , 3.6, 1.4, 0.2],\n       [5.2, 4.1, 1.5, 0.1],\n       [5.8, 2.7, 5.1, 1.9],\n       [6. , 3.4, 4.5, 1.6],\n       [6.7, 3.1, 4.7, 1.5],\n       [5.4, 3.9, 1.3, 0.4],\n       [5.4, 3.7, 1.5, 0.2],\n       [5.5, 2.4, 3.7, 1. ],\n       [6.3, 2.8, 5.1, 1.5],\n       [6.4, 3.1, 5.5, 1.8],\n       [6.6, 3. , 4.4, 1.4],\n       [7.2, 3.6, 6.1, 2.5],\n       [5.7, 2.9, 4.2, 1.3],\n       [7.6, 3. , 6.6, 2.1],\n       [5.6, 3. , 4.5, 1.5],\n       [5.1, 3.5, 1.4, 0.2],\n       [7.7, 2.8, 6.7, 2. ],\n       [5.8, 2.7, 4.1, 1. ],\n       [5.2, 3.4, 1.4, 0.2],\n       [5. , 3.5, 1.3, 0.3],\n       [5.1, 3.8, 1.9, 0.4],\n       [5. , 2. , 3.5, 1. ],\n       [6.3, 2.7, 4.9, 1.8],\n       [4.8, 3.4, 1.9, 0.2],\n       [5. , 3. , 1.6, 0.2],\n       [5.1, 3.3, 1.7, 0.5],\n       [5.6, 2.7, 4.2, 1.3],\n       [5.1, 3.4, 1.5, 0.2],\n       [5.7, 3. , 4.2, 1.2],\n       [7.7, 3.8, 6.7, 2.2],\n       [4.6, 3.2, 1.4, 0.2],\n       [6.2, 2.9, 4.3, 1.3],\n       [5.7, 2.5, 5. , 2. ],\n       [5.5, 4.2, 1.4, 0.2],\n       [6. , 3. , 4.8, 1.8],\n       [5.8, 2.7, 5.1, 1.9],\n       [6. , 2.2, 4. , 1. ],\n       [5.4, 3. , 4.5, 1.5],\n       [6.2, 3.4, 5.4, 2.3],\n       [5.5, 2.3, 4. , 1.3],\n       [5.4, 3.9, 1.7, 0.4],\n       [5. , 2.3, 3.3, 1. ],\n       [6.4, 2.7, 5.3, 1.9],\n       [5. , 3.3, 1.4, 0.2],\n       [5. , 3.2, 1.2, 0.2],\n       [5.5, 2.4, 3.8, 1.1],\n       [6.7, 3. , 5. , 1.7],\n       [4.9, 3.1, 1.5, 0.2],\n       [5.8, 2.8, 5.1, 2.4],\n       [5. , 3.4, 1.5, 0.2],\n       [5. , 3.5, 1.6, 0.6],\n       [5.9, 3.2, 4.8, 1.8],\n       [5.1, 2.5, 3. , 1.1],\n       [6.9, 3.2, 5.7, 2.3],\n       [6. , 2.7, 5.1, 1.6],\n       [6.1, 2.6, 5.6, 1.4],\n       [7.7, 3. , 6.1, 2.3],\n       [5.5, 2.5, 4. , 1.3],\n       [4.4, 2.9, 1.4, 0.2],\n       [4.3, 3. , 1.1, 0.1],\n       [6. , 2.2, 5. , 1.5],\n       [7.2, 3.2, 6. , 1.8],\n       [4.6, 3.1, 1.5, 0.2],\n       [5.1, 3.5, 1.4, 0.3],\n       [4.4, 3. , 1.3, 0.2],\n       [6.3, 2.5, 4.9, 1.5],\n       [6.3, 3.4, 5.6, 2.4],\n       [4.6, 3.4, 1.4, 0.3],\n       [6.8, 3. , 5.5, 2.1],\n       [6.3, 3.3, 6. , 2.5],\n       [4.7, 3.2, 1.3, 0.2],\n       [6.1, 2.9, 4.7, 1.4],\n       [6.5, 2.8, 4.6, 1.5],\n       [6.2, 2.8, 4.8, 1.8],\n       [7. , 3.2, 4.7, 1.4],\n       [6.4, 3.2, 5.3, 2.3],\n       [5.1, 3.8, 1.6, 0.2],\n       [6.9, 3.1, 5.4, 2.1],\n       [5.9, 3. , 4.2, 1.5],\n       [6.5, 3. , 5.2, 2. ],\n       [5.7, 2.6, 3.5, 1. ],\n       [5.2, 2.7, 3.9, 1.4],\n       [6.1, 3. , 4.6, 1.4],\n       [4.5, 2.3, 1.3, 0.3],\n       [6.6, 2.9, 4.6, 1.3],\n       [5.5, 2.6, 4.4, 1.2],\n       [5.3, 3.7, 1.5, 0.2],\n       [5.6, 3. , 4.1, 1.3],\n       [7.3, 2.9, 6.3, 1.8],\n       [6.7, 3.3, 5.7, 2.1],\n       [5.1, 3.7, 1.5, 0.4],\n       [4.9, 2.4, 3.3, 1. ],\n       [6.7, 3.3, 5.7, 2.5],\n       [7.2, 3. , 5.8, 1.6],\n       [4.9, 3.6, 1.4, 0.1],\n       [6.7, 3.1, 5.6, 2.4],\n       [4.9, 3. , 1.4, 0.2],\n       [6.9, 3.1, 4.9, 1.5],\n       [7.4, 2.8, 6.1, 1.9],\n       [6.3, 2.9, 5.6, 1.8],\n       [5.7, 2.8, 4.1, 1.3],\n       [6.5, 3. , 5.5, 1.8],\n       [6.3, 2.3, 4.4, 1.3],\n       [6.4, 2.9, 4.3, 1.3],\n       [5.6, 2.8, 4.9, 2. ],\n       [5.9, 3. , 5.1, 1.8],\n       [5.4, 3.4, 1.7, 0.2],\n       [6.1, 2.8, 4. , 1.3],\n       [4.9, 2.5, 4.5, 1.7],\n       [5.8, 4. , 1.2, 0.2],\n       [5.8, 2.6, 4. , 1.2],\n       [7.1, 3. , 5.9, 2.1]])])",
     "output_type": "error",
     "traceback": [
      "\u001b[1;31m-----------------------------------------------------------------\u001b[0m",
      "\u001b[1;31mTypeError\u001b[0m                       Traceback (most recent call last)",
      "\u001b[1;32m<ipython-input-14-b644b1960e8e>\u001b[0m in \u001b[0;36m<module>\u001b[1;34m\u001b[0m\n\u001b[0;32m     43\u001b[0m \u001b[1;33m\u001b[0m\u001b[0m\n\u001b[0;32m     44\u001b[0m \u001b[1;32mif\u001b[0m \u001b[0m__name__\u001b[0m \u001b[1;33m==\u001b[0m \u001b[1;34m\"__main__\"\u001b[0m\u001b[1;33m:\u001b[0m\u001b[1;33m\u001b[0m\u001b[1;33m\u001b[0m\u001b[0m\n\u001b[1;32m---> 45\u001b[1;33m     \u001b[0mmain\u001b[0m\u001b[1;33m(\u001b[0m\u001b[1;33m)\u001b[0m\u001b[1;33m\u001b[0m\u001b[1;33m\u001b[0m\u001b[0m\n\u001b[0m",
      "\u001b[1;32m<ipython-input-14-b644b1960e8e>\u001b[0m in \u001b[0;36mmain\u001b[1;34m()\u001b[0m\n\u001b[0;32m     30\u001b[0m             \u001b[1;34m\"seed\"\u001b[0m\u001b[1;33m:\u001b[0m \u001b[1;36m42\u001b[0m\u001b[1;33m,\u001b[0m\u001b[1;33m\u001b[0m\u001b[1;33m\u001b[0m\u001b[0m\n\u001b[0;32m     31\u001b[0m         }\n\u001b[1;32m---> 32\u001b[1;33m         \u001b[0mmodel\u001b[0m \u001b[1;33m=\u001b[0m \u001b[0mxgb\u001b[0m\u001b[1;33m.\u001b[0m\u001b[0mtrain\u001b[0m\u001b[1;33m(\u001b[0m\u001b[0mparams\u001b[0m\u001b[1;33m,\u001b[0m \u001b[0mX_train\u001b[0m\u001b[1;33m,\u001b[0m \u001b[0mevals\u001b[0m\u001b[1;33m=\u001b[0m\u001b[1;33m[\u001b[0m\u001b[1;33m(\u001b[0m\u001b[0mX_train\u001b[0m\u001b[1;33m,\u001b[0m \u001b[1;34m\"train\"\u001b[0m\u001b[1;33m)\u001b[0m\u001b[1;33m]\u001b[0m\u001b[1;33m)\u001b[0m\u001b[1;33m\u001b[0m\u001b[1;33m\u001b[0m\u001b[0m\n\u001b[0m\u001b[0;32m     33\u001b[0m \u001b[1;33m\u001b[0m\u001b[0m\n\u001b[0;32m     34\u001b[0m         \u001b[1;31m# evaluate model\u001b[0m\u001b[1;33m\u001b[0m\u001b[1;33m\u001b[0m\u001b[1;33m\u001b[0m\u001b[0m\n",
      "\u001b[1;32mC:\\ProgramData\\Anaconda3\\lib\\site-packages\\mlflow\\utils\\autologging_utils\\safety.py\u001b[0m in \u001b[0;36msafe_patch_function\u001b[1;34m(*args, **kwargs)\u001b[0m\n\u001b[0;32m    523\u001b[0m                         \u001b[0mpatch_function\u001b[0m\u001b[1;33m.\u001b[0m\u001b[0mcall\u001b[0m\u001b[1;33m(\u001b[0m\u001b[0mcall_original\u001b[0m\u001b[1;33m,\u001b[0m \u001b[1;33m*\u001b[0m\u001b[0margs\u001b[0m\u001b[1;33m,\u001b[0m \u001b[1;33m**\u001b[0m\u001b[0mkwargs\u001b[0m\u001b[1;33m)\u001b[0m\u001b[1;33m\u001b[0m\u001b[1;33m\u001b[0m\u001b[0m\n\u001b[0;32m    524\u001b[0m                     \u001b[1;32melse\u001b[0m\u001b[1;33m:\u001b[0m\u001b[1;33m\u001b[0m\u001b[1;33m\u001b[0m\u001b[0m\n\u001b[1;32m--> 525\u001b[1;33m                         \u001b[0mpatch_function\u001b[0m\u001b[1;33m(\u001b[0m\u001b[0mcall_original\u001b[0m\u001b[1;33m,\u001b[0m \u001b[1;33m*\u001b[0m\u001b[0margs\u001b[0m\u001b[1;33m,\u001b[0m \u001b[1;33m**\u001b[0m\u001b[0mkwargs\u001b[0m\u001b[1;33m)\u001b[0m\u001b[1;33m\u001b[0m\u001b[1;33m\u001b[0m\u001b[0m\n\u001b[0m\u001b[0;32m    526\u001b[0m \u001b[1;33m\u001b[0m\u001b[0m\n\u001b[0;32m    527\u001b[0m                     \u001b[0msession\u001b[0m\u001b[1;33m.\u001b[0m\u001b[0mstate\u001b[0m \u001b[1;33m=\u001b[0m \u001b[1;34m\"succeeded\"\u001b[0m\u001b[1;33m\u001b[0m\u001b[1;33m\u001b[0m\u001b[0m\n",
      "\u001b[1;32mC:\\ProgramData\\Anaconda3\\lib\\site-packages\\mlflow\\utils\\autologging_utils\\safety.py\u001b[0m in \u001b[0;36mpatch_with_managed_run\u001b[1;34m(original, *args, **kwargs)\u001b[0m\n\u001b[0;32m    240\u001b[0m \u001b[1;33m\u001b[0m\u001b[0m\n\u001b[0;32m    241\u001b[0m             \u001b[1;32mtry\u001b[0m\u001b[1;33m:\u001b[0m\u001b[1;33m\u001b[0m\u001b[1;33m\u001b[0m\u001b[0m\n\u001b[1;32m--> 242\u001b[1;33m                 \u001b[0mresult\u001b[0m \u001b[1;33m=\u001b[0m \u001b[0mpatch_function\u001b[0m\u001b[1;33m(\u001b[0m\u001b[0moriginal\u001b[0m\u001b[1;33m,\u001b[0m \u001b[1;33m*\u001b[0m\u001b[0margs\u001b[0m\u001b[1;33m,\u001b[0m \u001b[1;33m**\u001b[0m\u001b[0mkwargs\u001b[0m\u001b[1;33m)\u001b[0m\u001b[1;33m\u001b[0m\u001b[1;33m\u001b[0m\u001b[0m\n\u001b[0m\u001b[0;32m    243\u001b[0m             \u001b[1;32mexcept\u001b[0m \u001b[1;33m(\u001b[0m\u001b[0mException\u001b[0m\u001b[1;33m,\u001b[0m \u001b[0mKeyboardInterrupt\u001b[0m\u001b[1;33m)\u001b[0m\u001b[1;33m:\u001b[0m\u001b[1;33m\u001b[0m\u001b[1;33m\u001b[0m\u001b[0m\n\u001b[0;32m    244\u001b[0m                 \u001b[1;31m# In addition to standard Python exceptions, handle keyboard interrupts to ensure\u001b[0m\u001b[1;33m\u001b[0m\u001b[1;33m\u001b[0m\u001b[1;33m\u001b[0m\u001b[0m\n",
      "\u001b[1;32mC:\\ProgramData\\Anaconda3\\lib\\site-packages\\mlflow\\xgboost.py\u001b[0m in \u001b[0;36mtrain\u001b[1;34m(original, *args, **kwargs)\u001b[0m\n\u001b[0;32m    583\u001b[0m \u001b[1;33m\u001b[0m\u001b[0m\n\u001b[0;32m    584\u001b[0m             \u001b[1;31m# training model\u001b[0m\u001b[1;33m\u001b[0m\u001b[1;33m\u001b[0m\u001b[1;33m\u001b[0m\u001b[0m\n\u001b[1;32m--> 585\u001b[1;33m             \u001b[0mmodel\u001b[0m \u001b[1;33m=\u001b[0m \u001b[0moriginal\u001b[0m\u001b[1;33m(\u001b[0m\u001b[1;33m*\u001b[0m\u001b[0margs\u001b[0m\u001b[1;33m,\u001b[0m \u001b[1;33m**\u001b[0m\u001b[0mkwargs\u001b[0m\u001b[1;33m)\u001b[0m\u001b[1;33m\u001b[0m\u001b[1;33m\u001b[0m\u001b[0m\n\u001b[0m\u001b[0;32m    586\u001b[0m \u001b[1;33m\u001b[0m\u001b[0m\n\u001b[0;32m    587\u001b[0m             \u001b[1;31m# If early_stopping_rounds is present, logging metrics at the best iteration\u001b[0m\u001b[1;33m\u001b[0m\u001b[1;33m\u001b[0m\u001b[1;33m\u001b[0m\u001b[0m\n",
      "\u001b[1;32mC:\\ProgramData\\Anaconda3\\lib\\site-packages\\mlflow\\utils\\autologging_utils\\safety.py\u001b[0m in \u001b[0;36mcall_original\u001b[1;34m(*og_args, **og_kwargs)\u001b[0m\n\u001b[0;32m    479\u001b[0m                                 \u001b[0mdisable_warnings\u001b[0m\u001b[1;33m=\u001b[0m\u001b[1;32mFalse\u001b[0m\u001b[1;33m,\u001b[0m \u001b[0mreroute_warnings\u001b[0m\u001b[1;33m=\u001b[0m\u001b[1;32mFalse\u001b[0m\u001b[1;33m,\u001b[0m\u001b[1;33m\u001b[0m\u001b[1;33m\u001b[0m\u001b[0m\n\u001b[0;32m    480\u001b[0m                             ):\n\u001b[1;32m--> 481\u001b[1;33m                                 \u001b[0moriginal_result\u001b[0m \u001b[1;33m=\u001b[0m \u001b[0moriginal\u001b[0m\u001b[1;33m(\u001b[0m\u001b[1;33m*\u001b[0m\u001b[0mog_args\u001b[0m\u001b[1;33m,\u001b[0m \u001b[1;33m**\u001b[0m\u001b[0mog_kwargs\u001b[0m\u001b[1;33m)\u001b[0m\u001b[1;33m\u001b[0m\u001b[1;33m\u001b[0m\u001b[0m\n\u001b[0m\u001b[0;32m    482\u001b[0m \u001b[1;33m\u001b[0m\u001b[0m\n\u001b[0;32m    483\u001b[0m                             try_log_autologging_event(\n",
      "\u001b[1;32mC:\\ProgramData\\Anaconda3\\lib\\site-packages\\xgboost\\training.py\u001b[0m in \u001b[0;36mtrain\u001b[1;34m(params, dtrain, num_boost_round, evals, obj, feval, maximize, early_stopping_rounds, evals_result, verbose_eval, xgb_model, callbacks)\u001b[0m\n\u001b[0;32m    195\u001b[0m                           \u001b[0mevals_result\u001b[0m\u001b[1;33m=\u001b[0m\u001b[0mevals_result\u001b[0m\u001b[1;33m,\u001b[0m\u001b[1;33m\u001b[0m\u001b[1;33m\u001b[0m\u001b[0m\n\u001b[0;32m    196\u001b[0m                           \u001b[0mmaximize\u001b[0m\u001b[1;33m=\u001b[0m\u001b[0mmaximize\u001b[0m\u001b[1;33m,\u001b[0m\u001b[1;33m\u001b[0m\u001b[1;33m\u001b[0m\u001b[0m\n\u001b[1;32m--> 197\u001b[1;33m                           early_stopping_rounds=early_stopping_rounds)\n\u001b[0m\u001b[0;32m    198\u001b[0m     \u001b[1;32mreturn\u001b[0m \u001b[0mbst\u001b[0m\u001b[1;33m\u001b[0m\u001b[1;33m\u001b[0m\u001b[0m\n\u001b[0;32m    199\u001b[0m \u001b[1;33m\u001b[0m\u001b[0m\n",
      "\u001b[1;32mC:\\ProgramData\\Anaconda3\\lib\\site-packages\\xgboost\\training.py\u001b[0m in \u001b[0;36m_train_internal\u001b[1;34m(params, dtrain, num_boost_round, evals, obj, feval, xgb_model, callbacks, evals_result, maximize, verbose_eval, early_stopping_rounds)\u001b[0m\n\u001b[0;32m     49\u001b[0m     \u001b[0mevals\u001b[0m \u001b[1;33m=\u001b[0m \u001b[0mlist\u001b[0m\u001b[1;33m(\u001b[0m\u001b[0mevals\u001b[0m\u001b[1;33m)\u001b[0m\u001b[1;33m\u001b[0m\u001b[1;33m\u001b[0m\u001b[0m\n\u001b[0;32m     50\u001b[0m \u001b[1;33m\u001b[0m\u001b[0m\n\u001b[1;32m---> 51\u001b[1;33m     \u001b[0mbst\u001b[0m \u001b[1;33m=\u001b[0m \u001b[0mBooster\u001b[0m\u001b[1;33m(\u001b[0m\u001b[0mparams\u001b[0m\u001b[1;33m,\u001b[0m \u001b[1;33m[\u001b[0m\u001b[0mdtrain\u001b[0m\u001b[1;33m]\u001b[0m \u001b[1;33m+\u001b[0m \u001b[1;33m[\u001b[0m\u001b[0md\u001b[0m\u001b[1;33m[\u001b[0m\u001b[1;36m0\u001b[0m\u001b[1;33m]\u001b[0m \u001b[1;32mfor\u001b[0m \u001b[0md\u001b[0m \u001b[1;32min\u001b[0m \u001b[0mevals\u001b[0m\u001b[1;33m]\u001b[0m\u001b[1;33m)\u001b[0m\u001b[1;33m\u001b[0m\u001b[1;33m\u001b[0m\u001b[0m\n\u001b[0m\u001b[0;32m     52\u001b[0m \u001b[1;33m\u001b[0m\u001b[0m\n\u001b[0;32m     53\u001b[0m     \u001b[1;32mif\u001b[0m \u001b[0mxgb_model\u001b[0m \u001b[1;32mis\u001b[0m \u001b[1;32mnot\u001b[0m \u001b[1;32mNone\u001b[0m\u001b[1;33m:\u001b[0m\u001b[1;33m\u001b[0m\u001b[1;33m\u001b[0m\u001b[0m\n",
      "\u001b[1;32mC:\\ProgramData\\Anaconda3\\lib\\site-packages\\xgboost\\core.py\u001b[0m in \u001b[0;36m__init__\u001b[1;34m(self, params, cache, model_file)\u001b[0m\n\u001b[0;32m   1185\u001b[0m         \u001b[1;32mfor\u001b[0m \u001b[0md\u001b[0m \u001b[1;32min\u001b[0m \u001b[0mcache\u001b[0m\u001b[1;33m:\u001b[0m\u001b[1;33m\u001b[0m\u001b[1;33m\u001b[0m\u001b[0m\n\u001b[0;32m   1186\u001b[0m             \u001b[1;32mif\u001b[0m \u001b[1;32mnot\u001b[0m \u001b[0misinstance\u001b[0m\u001b[1;33m(\u001b[0m\u001b[0md\u001b[0m\u001b[1;33m,\u001b[0m \u001b[0mDMatrix\u001b[0m\u001b[1;33m)\u001b[0m\u001b[1;33m:\u001b[0m\u001b[1;33m\u001b[0m\u001b[1;33m\u001b[0m\u001b[0m\n\u001b[1;32m-> 1187\u001b[1;33m                 \u001b[1;32mraise\u001b[0m \u001b[0mTypeError\u001b[0m\u001b[1;33m(\u001b[0m\u001b[1;34m'invalid cache item: {}'\u001b[0m\u001b[1;33m.\u001b[0m\u001b[0mformat\u001b[0m\u001b[1;33m(\u001b[0m\u001b[0mtype\u001b[0m\u001b[1;33m(\u001b[0m\u001b[0md\u001b[0m\u001b[1;33m)\u001b[0m\u001b[1;33m.\u001b[0m\u001b[0m__name__\u001b[0m\u001b[1;33m)\u001b[0m\u001b[1;33m,\u001b[0m \u001b[0mcache\u001b[0m\u001b[1;33m)\u001b[0m\u001b[1;33m\u001b[0m\u001b[1;33m\u001b[0m\u001b[0m\n\u001b[0m\u001b[0;32m   1188\u001b[0m \u001b[1;33m\u001b[0m\u001b[0m\n\u001b[0;32m   1189\u001b[0m         \u001b[0mdmats\u001b[0m \u001b[1;33m=\u001b[0m \u001b[0mc_array\u001b[0m\u001b[1;33m(\u001b[0m\u001b[0mctypes\u001b[0m\u001b[1;33m.\u001b[0m\u001b[0mc_void_p\u001b[0m\u001b[1;33m,\u001b[0m \u001b[1;33m[\u001b[0m\u001b[0md\u001b[0m\u001b[1;33m.\u001b[0m\u001b[0mhandle\u001b[0m \u001b[1;32mfor\u001b[0m \u001b[0md\u001b[0m \u001b[1;32min\u001b[0m \u001b[0mcache\u001b[0m\u001b[1;33m]\u001b[0m\u001b[1;33m)\u001b[0m\u001b[1;33m\u001b[0m\u001b[1;33m\u001b[0m\u001b[0m\n",
      "\u001b[1;31mTypeError\u001b[0m: ('invalid cache item: ndarray', [array([[4.6, 3.6, 1. , 0.2],\n       [5.7, 4.4, 1.5, 0.4],\n       [6.7, 3.1, 4.4, 1.4],\n       [4.8, 3.4, 1.6, 0.2],\n       [4.4, 3.2, 1.3, 0.2],\n       [6.3, 2.5, 5. , 1.9],\n       [6.4, 3.2, 4.5, 1.5],\n       [5.2, 3.5, 1.5, 0.2],\n       [5. , 3.6, 1.4, 0.2],\n       [5.2, 4.1, 1.5, 0.1],\n       [5.8, 2.7, 5.1, 1.9],\n       [6. , 3.4, 4.5, 1.6],\n       [6.7, 3.1, 4.7, 1.5],\n       [5.4, 3.9, 1.3, 0.4],\n       [5.4, 3.7, 1.5, 0.2],\n       [5.5, 2.4, 3.7, 1. ],\n       [6.3, 2.8, 5.1, 1.5],\n       [6.4, 3.1, 5.5, 1.8],\n       [6.6, 3. , 4.4, 1.4],\n       [7.2, 3.6, 6.1, 2.5],\n       [5.7, 2.9, 4.2, 1.3],\n       [7.6, 3. , 6.6, 2.1],\n       [5.6, 3. , 4.5, 1.5],\n       [5.1, 3.5, 1.4, 0.2],\n       [7.7, 2.8, 6.7, 2. ],\n       [5.8, 2.7, 4.1, 1. ],\n       [5.2, 3.4, 1.4, 0.2],\n       [5. , 3.5, 1.3, 0.3],\n       [5.1, 3.8, 1.9, 0.4],\n       [5. , 2. , 3.5, 1. ],\n       [6.3, 2.7, 4.9, 1.8],\n       [4.8, 3.4, 1.9, 0.2],\n       [5. , 3. , 1.6, 0.2],\n       [5.1, 3.3, 1.7, 0.5],\n       [5.6, 2.7, 4.2, 1.3],\n       [5.1, 3.4, 1.5, 0.2],\n       [5.7, 3. , 4.2, 1.2],\n       [7.7, 3.8, 6.7, 2.2],\n       [4.6, 3.2, 1.4, 0.2],\n       [6.2, 2.9, 4.3, 1.3],\n       [5.7, 2.5, 5. , 2. ],\n       [5.5, 4.2, 1.4, 0.2],\n       [6. , 3. , 4.8, 1.8],\n       [5.8, 2.7, 5.1, 1.9],\n       [6. , 2.2, 4. , 1. ],\n       [5.4, 3. , 4.5, 1.5],\n       [6.2, 3.4, 5.4, 2.3],\n       [5.5, 2.3, 4. , 1.3],\n       [5.4, 3.9, 1.7, 0.4],\n       [5. , 2.3, 3.3, 1. ],\n       [6.4, 2.7, 5.3, 1.9],\n       [5. , 3.3, 1.4, 0.2],\n       [5. , 3.2, 1.2, 0.2],\n       [5.5, 2.4, 3.8, 1.1],\n       [6.7, 3. , 5. , 1.7],\n       [4.9, 3.1, 1.5, 0.2],\n       [5.8, 2.8, 5.1, 2.4],\n       [5. , 3.4, 1.5, 0.2],\n       [5. , 3.5, 1.6, 0.6],\n       [5.9, 3.2, 4.8, 1.8],\n       [5.1, 2.5, 3. , 1.1],\n       [6.9, 3.2, 5.7, 2.3],\n       [6. , 2.7, 5.1, 1.6],\n       [6.1, 2.6, 5.6, 1.4],\n       [7.7, 3. , 6.1, 2.3],\n       [5.5, 2.5, 4. , 1.3],\n       [4.4, 2.9, 1.4, 0.2],\n       [4.3, 3. , 1.1, 0.1],\n       [6. , 2.2, 5. , 1.5],\n       [7.2, 3.2, 6. , 1.8],\n       [4.6, 3.1, 1.5, 0.2],\n       [5.1, 3.5, 1.4, 0.3],\n       [4.4, 3. , 1.3, 0.2],\n       [6.3, 2.5, 4.9, 1.5],\n       [6.3, 3.4, 5.6, 2.4],\n       [4.6, 3.4, 1.4, 0.3],\n       [6.8, 3. , 5.5, 2.1],\n       [6.3, 3.3, 6. , 2.5],\n       [4.7, 3.2, 1.3, 0.2],\n       [6.1, 2.9, 4.7, 1.4],\n       [6.5, 2.8, 4.6, 1.5],\n       [6.2, 2.8, 4.8, 1.8],\n       [7. , 3.2, 4.7, 1.4],\n       [6.4, 3.2, 5.3, 2.3],\n       [5.1, 3.8, 1.6, 0.2],\n       [6.9, 3.1, 5.4, 2.1],\n       [5.9, 3. , 4.2, 1.5],\n       [6.5, 3. , 5.2, 2. ],\n       [5.7, 2.6, 3.5, 1. ],\n       [5.2, 2.7, 3.9, 1.4],\n       [6.1, 3. , 4.6, 1.4],\n       [4.5, 2.3, 1.3, 0.3],\n       [6.6, 2.9, 4.6, 1.3],\n       [5.5, 2.6, 4.4, 1.2],\n       [5.3, 3.7, 1.5, 0.2],\n       [5.6, 3. , 4.1, 1.3],\n       [7.3, 2.9, 6.3, 1.8],\n       [6.7, 3.3, 5.7, 2.1],\n       [5.1, 3.7, 1.5, 0.4],\n       [4.9, 2.4, 3.3, 1. ],\n       [6.7, 3.3, 5.7, 2.5],\n       [7.2, 3. , 5.8, 1.6],\n       [4.9, 3.6, 1.4, 0.1],\n       [6.7, 3.1, 5.6, 2.4],\n       [4.9, 3. , 1.4, 0.2],\n       [6.9, 3.1, 4.9, 1.5],\n       [7.4, 2.8, 6.1, 1.9],\n       [6.3, 2.9, 5.6, 1.8],\n       [5.7, 2.8, 4.1, 1.3],\n       [6.5, 3. , 5.5, 1.8],\n       [6.3, 2.3, 4.4, 1.3],\n       [6.4, 2.9, 4.3, 1.3],\n       [5.6, 2.8, 4.9, 2. ],\n       [5.9, 3. , 5.1, 1.8],\n       [5.4, 3.4, 1.7, 0.2],\n       [6.1, 2.8, 4. , 1.3],\n       [4.9, 2.5, 4.5, 1.7],\n       [5.8, 4. , 1.2, 0.2],\n       [5.8, 2.6, 4. , 1.2],\n       [7.1, 3. , 5.9, 2.1]]), array([[4.6, 3.6, 1. , 0.2],\n       [5.7, 4.4, 1.5, 0.4],\n       [6.7, 3.1, 4.4, 1.4],\n       [4.8, 3.4, 1.6, 0.2],\n       [4.4, 3.2, 1.3, 0.2],\n       [6.3, 2.5, 5. , 1.9],\n       [6.4, 3.2, 4.5, 1.5],\n       [5.2, 3.5, 1.5, 0.2],\n       [5. , 3.6, 1.4, 0.2],\n       [5.2, 4.1, 1.5, 0.1],\n       [5.8, 2.7, 5.1, 1.9],\n       [6. , 3.4, 4.5, 1.6],\n       [6.7, 3.1, 4.7, 1.5],\n       [5.4, 3.9, 1.3, 0.4],\n       [5.4, 3.7, 1.5, 0.2],\n       [5.5, 2.4, 3.7, 1. ],\n       [6.3, 2.8, 5.1, 1.5],\n       [6.4, 3.1, 5.5, 1.8],\n       [6.6, 3. , 4.4, 1.4],\n       [7.2, 3.6, 6.1, 2.5],\n       [5.7, 2.9, 4.2, 1.3],\n       [7.6, 3. , 6.6, 2.1],\n       [5.6, 3. , 4.5, 1.5],\n       [5.1, 3.5, 1.4, 0.2],\n       [7.7, 2.8, 6.7, 2. ],\n       [5.8, 2.7, 4.1, 1. ],\n       [5.2, 3.4, 1.4, 0.2],\n       [5. , 3.5, 1.3, 0.3],\n       [5.1, 3.8, 1.9, 0.4],\n       [5. , 2. , 3.5, 1. ],\n       [6.3, 2.7, 4.9, 1.8],\n       [4.8, 3.4, 1.9, 0.2],\n       [5. , 3. , 1.6, 0.2],\n       [5.1, 3.3, 1.7, 0.5],\n       [5.6, 2.7, 4.2, 1.3],\n       [5.1, 3.4, 1.5, 0.2],\n       [5.7, 3. , 4.2, 1.2],\n       [7.7, 3.8, 6.7, 2.2],\n       [4.6, 3.2, 1.4, 0.2],\n       [6.2, 2.9, 4.3, 1.3],\n       [5.7, 2.5, 5. , 2. ],\n       [5.5, 4.2, 1.4, 0.2],\n       [6. , 3. , 4.8, 1.8],\n       [5.8, 2.7, 5.1, 1.9],\n       [6. , 2.2, 4. , 1. ],\n       [5.4, 3. , 4.5, 1.5],\n       [6.2, 3.4, 5.4, 2.3],\n       [5.5, 2.3, 4. , 1.3],\n       [5.4, 3.9, 1.7, 0.4],\n       [5. , 2.3, 3.3, 1. ],\n       [6.4, 2.7, 5.3, 1.9],\n       [5. , 3.3, 1.4, 0.2],\n       [5. , 3.2, 1.2, 0.2],\n       [5.5, 2.4, 3.8, 1.1],\n       [6.7, 3. , 5. , 1.7],\n       [4.9, 3.1, 1.5, 0.2],\n       [5.8, 2.8, 5.1, 2.4],\n       [5. , 3.4, 1.5, 0.2],\n       [5. , 3.5, 1.6, 0.6],\n       [5.9, 3.2, 4.8, 1.8],\n       [5.1, 2.5, 3. , 1.1],\n       [6.9, 3.2, 5.7, 2.3],\n       [6. , 2.7, 5.1, 1.6],\n       [6.1, 2.6, 5.6, 1.4],\n       [7.7, 3. , 6.1, 2.3],\n       [5.5, 2.5, 4. , 1.3],\n       [4.4, 2.9, 1.4, 0.2],\n       [4.3, 3. , 1.1, 0.1],\n       [6. , 2.2, 5. , 1.5],\n       [7.2, 3.2, 6. , 1.8],\n       [4.6, 3.1, 1.5, 0.2],\n       [5.1, 3.5, 1.4, 0.3],\n       [4.4, 3. , 1.3, 0.2],\n       [6.3, 2.5, 4.9, 1.5],\n       [6.3, 3.4, 5.6, 2.4],\n       [4.6, 3.4, 1.4, 0.3],\n       [6.8, 3. , 5.5, 2.1],\n       [6.3, 3.3, 6. , 2.5],\n       [4.7, 3.2, 1.3, 0.2],\n       [6.1, 2.9, 4.7, 1.4],\n       [6.5, 2.8, 4.6, 1.5],\n       [6.2, 2.8, 4.8, 1.8],\n       [7. , 3.2, 4.7, 1.4],\n       [6.4, 3.2, 5.3, 2.3],\n       [5.1, 3.8, 1.6, 0.2],\n       [6.9, 3.1, 5.4, 2.1],\n       [5.9, 3. , 4.2, 1.5],\n       [6.5, 3. , 5.2, 2. ],\n       [5.7, 2.6, 3.5, 1. ],\n       [5.2, 2.7, 3.9, 1.4],\n       [6.1, 3. , 4.6, 1.4],\n       [4.5, 2.3, 1.3, 0.3],\n       [6.6, 2.9, 4.6, 1.3],\n       [5.5, 2.6, 4.4, 1.2],\n       [5.3, 3.7, 1.5, 0.2],\n       [5.6, 3. , 4.1, 1.3],\n       [7.3, 2.9, 6.3, 1.8],\n       [6.7, 3.3, 5.7, 2.1],\n       [5.1, 3.7, 1.5, 0.4],\n       [4.9, 2.4, 3.3, 1. ],\n       [6.7, 3.3, 5.7, 2.5],\n       [7.2, 3. , 5.8, 1.6],\n       [4.9, 3.6, 1.4, 0.1],\n       [6.7, 3.1, 5.6, 2.4],\n       [4.9, 3. , 1.4, 0.2],\n       [6.9, 3.1, 4.9, 1.5],\n       [7.4, 2.8, 6.1, 1.9],\n       [6.3, 2.9, 5.6, 1.8],\n       [5.7, 2.8, 4.1, 1.3],\n       [6.5, 3. , 5.5, 1.8],\n       [6.3, 2.3, 4.4, 1.3],\n       [6.4, 2.9, 4.3, 1.3],\n       [5.6, 2.8, 4.9, 2. ],\n       [5.9, 3. , 5.1, 1.8],\n       [5.4, 3.4, 1.7, 0.2],\n       [6.1, 2.8, 4. , 1.3],\n       [4.9, 2.5, 4.5, 1.7],\n       [5.8, 4. , 1.2, 0.2],\n       [5.8, 2.6, 4. , 1.2],\n       [7.1, 3. , 5.9, 2.1]])])"
     ]
    }
   ],
   "source": [
    "def main():\n",
    "    # parse command-line arguments\n",
    "#     args = parse_args()\n",
    "\n",
    "    # prepare train and test data\n",
    "    iris = datasets.load_iris()\n",
    "    X = iris.data\n",
    "    y = iris.target\n",
    "#     print(X.head())\n",
    "#     print(y)\n",
    "    X_train, X_test, y_train, y_test = train_test_split(X, y, test_size=0.2, random_state=42)\n",
    "\n",
    "    # enable auto logging\n",
    "    mlflow.xgboost.autolog()\n",
    "\n",
    "#     dtrain = xgb.DMatrix(X_train, label=y_train)\n",
    "#     dtest = xgb.DMatrix(X_test, label=y_test)\n",
    "#     print(dtest)\n",
    "\n",
    "    with mlflow.start_run():\n",
    "\n",
    "        # train model\n",
    "        params = {\n",
    "            \"objective\": \"multi:softprob\",\n",
    "            \"num_class\": 3,\n",
    "            \"learning_rate\": 0.3,#args.learning_rate,\n",
    "            \"eval_metric\": \"mlogloss\",\n",
    "            \"colsample_bytree\": 1,#args.colsample_bytree,\n",
    "            \"subsample\": 1,#args.subsample,\n",
    "            \"seed\": 42,\n",
    "        }\n",
    "        model = xgb.train(params, X_train, evals=[(X_train, \"train\")])\n",
    "\n",
    "        # evaluate model\n",
    "        y_proba = model.predict(X_test)\n",
    "        y_pred = y_proba.argmax(axis=1)\n",
    "        loss = log_loss(y_test, y_proba)\n",
    "        acc = accuracy_score(y_test, y_pred)\n",
    "\n",
    "        # log metrics\n",
    "        mlflow.log_metrics({\"log_loss\": loss, \"accuracy\": acc})\n",
    "\n",
    "\n",
    "if __name__ == \"__main__\":\n",
    "    main()"
   ]
  },
  {
   "cell_type": "code",
   "execution_count": 19,
   "metadata": {},
   "outputs": [
    {
     "name": "stdout",
     "output_type": "stream",
     "text": [
      "XGBClassifier(base_score=None, booster='gbtree', colsample_bylevel=None,\n",
      "              colsample_bynode=None, colsample_bytree=None, gamma=None,\n",
      "              gpu_id=None, importance_type='gain', interaction_constraints=None,\n",
      "              learning_rate=0.1, max_delta_step=None, max_depth=3,\n",
      "              min_child_weight=None, missing=nan, monotone_constraints=None,\n",
      "              n_estimators=500, n_jobs=None, num_parallel_tree=None,\n",
      "              objective='binary:logistic', random_state=None, reg_alpha=None,\n",
      "              reg_lambda=None, scale_pos_weight=None, subsample=None,\n",
      "              tree_method=None, use_label_encoder=True,\n",
      "              validate_parameters=None, verbosity=None)\n",
      "[15:18:41] WARNING: D:\\bld\\xgboost-split_1631904903843\\work\\src\\learner.cc:1095: Starting in XGBoost 1.3.0, the default evaluation metric used with the objective 'binary:logistic' was changed from 'error' to 'logloss'. Explicitly set eval_metric if you'd like to restore the old behavior.\n"
     ]
    },
    {
     "name": "stderr",
     "output_type": "stream",
     "text": [
      "C:\\ProgramData\\Anaconda3\\lib\\site-packages\\xgboost\\sklearn.py:1146: UserWarning: The use of label encoder in XGBClassifier is deprecated and will be removed in a future release. To remove this warning, do the following: 1) Pass option use_label_encoder=False when constructing XGBClassifier object; and 2) Encode your labels (y) as integers starting with 0, i.e. 0, 1, 2, ..., [num_class - 1].\n",
      "  warnings.warn(label_encoder_deprecation_msg, UserWarning)\n"
     ]
    },
    {
     "name": "stdout",
     "output_type": "stream",
     "text": [
      "acc 0.75\n",
      "loss 8.634694098727671\n"
     ]
    }
   ],
   "source": [
    "#### Create Loan Data for Classification in Python ####\n",
    "import numpy as np\n",
    "import pandas as pd\n",
    "from sklearn import metrics\n",
    "from sklearn.metrics import accuracy_score, log_loss\n",
    "from xgboost import XGBClassifier\n",
    "\n",
    "ColumnNames=['CIBIL','AGE', 'SALARY', 'APPROVE_LOAN']\n",
    "DataValues=[[480, 28, 610000, 1],\n",
    "             [480, 42, 140000, 0],\n",
    "             [480, 29, 420000, 0],\n",
    "             [490, 30, 420000, 0],\n",
    "             [500, 27, 420000, 0],\n",
    "             [510, 34, 190000, 0],\n",
    "             [550, 24, 330000, 1],\n",
    "             [560, 34, 160000, 1],\n",
    "             [560, 25, 300000, 1],\n",
    "             [570, 34, 450000, 1],\n",
    "             [590, 30, 140000, 1],\n",
    "             [600, 33, 600000, 1],\n",
    "             [600, 22, 400000, 1],\n",
    "             [600, 25, 490000, 1],\n",
    "             [610, 32, 120000, 1],\n",
    "             [630, 29, 360000, 1],\n",
    "             [630, 30, 480000, 1],\n",
    "             [660, 29, 460000, 1],\n",
    "             [700, 32, 470000, 1],\n",
    "             [740, 28, 400000, 1]]\n",
    "\n",
    "#Create the Data Frame\n",
    "LoanData=pd.DataFrame(data=DataValues,columns=ColumnNames)\n",
    "LoanData.head()\n",
    "\n",
    "#Separate Target Variable and Predictor Variables\n",
    "TargetVariable='APPROVE_LOAN'\n",
    "Predictors=['CIBIL','AGE', 'SALARY']\n",
    "X=LoanData[Predictors].values\n",
    "y=LoanData[TargetVariable].values\n",
    "\n",
    "#Split the data into training and testing set\n",
    "from sklearn.model_selection import train_test_split\n",
    "X_train, X_test, y_train, y_test = train_test_split(X, y, test_size=0.2, random_state=42)\n",
    "\n",
    "# enable auto logging\n",
    "mlflow.xgboost.autolog()\n",
    "\n",
    "###################################################################\n",
    "###### Xgboost Classification in Python #######\n",
    "\n",
    "with mlflow.start_run():\n",
    "    clf=XGBClassifier(max_depth=3, learning_rate=0.1, n_estimators=500, objective='binary:logistic', booster='gbtree')\n",
    "\n",
    "    #Printing all the parameters of XGBoost\n",
    "    print(clf)\n",
    "\n",
    "    #Creating the model on Training Data\n",
    "    XGB=clf.fit(X_train,y_train)\n",
    "    prediction=XGB.predict(X_test)\n",
    "\n",
    "    #Measuring accuracy on Testing Data\n",
    "    loss = log_loss(y_test, prediction)\n",
    "    acc = accuracy_score(y_test, prediction)\n",
    "    print( 'acc', acc)\n",
    "    print('loss',loss)\n",
    "\n",
    "    # log metrics\n",
    "    mlflow.log_metrics({\"log_loss\": loss, \"accuracy\": acc})\n",
    "\n",
    "\n",
    "#     print(metrics.classification_report(y_test, prediction))\n",
    "#     print(metrics.confusion_matrix(y_test, prediction))\n",
    "\n",
    "#     #Plotting the feature importance for Top 10 most important columns\n",
    "#     %matplotlib inline\n",
    "#     feature_importances = pd.Series(XGB.feature_importances_, index=Predictors)\n",
    "#     feature_importances.nlargest(10).plot(kind='barh')\n",
    "\n",
    "#     #Printing some sample values of prediction\n",
    "#     TestingDataResults=pd.DataFrame(data=X_test, columns=Predictors)\n",
    "#     TestingDataResults['TargetColumn']=y_test\n",
    "#     TestingDataResults['Prediction']=prediction\n",
    "#     TestingDataResults.head()"
   ]
  },
  {
   "cell_type": "code",
   "execution_count": 21,
   "metadata": {},
   "outputs": [
    {
     "data": {
      "text/plain": [
       "array([[   480,     28, 610000],\n",
       "       [   660,     29, 460000],\n",
       "       [   630,     29, 360000],\n",
       "       [   480,     42, 140000]], dtype=int64)"
      ]
     },
     "execution_count": 21,
     "metadata": {},
     "output_type": "execute_result"
    }
   ],
   "source": [
    "X_test"
   ]
  },
  {
   "cell_type": "code",
   "execution_count": 24,
   "metadata": {},
   "outputs": [],
   "source": [
    "pd.DataFrame(X_test,columns=['CIBIL','AGE', 'SALARY']).to_csv(\"predict_classify.csv\")"
   ]
  },
  {
   "cell_type": "code",
   "execution_count": null,
   "metadata": {},
   "outputs": [],
   "source": []
  }
 ],
 "metadata": {
  "kernelspec": {
   "display_name": "Python 3",
   "language": "python",
   "name": "python3"
  },
  "language_info": {
   "codemirror_mode": {
    "name": "ipython",
    "version": 3
   },
   "file_extension": ".py",
   "mimetype": "text/x-python",
   "name": "python",
   "nbconvert_exporter": "python",
   "pygments_lexer": "ipython3",
   "version": "3.7.6"
  }
 },
 "nbformat": 4,
 "nbformat_minor": 4
}
